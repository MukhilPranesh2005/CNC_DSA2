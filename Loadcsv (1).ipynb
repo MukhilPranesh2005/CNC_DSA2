{
 "cells": [
  {
   "cell_type": "code",
   "execution_count": 2,
   "id": "cacc2278-9f47-4760-832a-1c082177783c",
   "metadata": {},
   "outputs": [],
   "source": [
    "import pandas as pd"
   ]
  },
  {
   "cell_type": "code",
   "execution_count": 3,
   "id": "07fe9fac-f562-4f9c-9284-6cdb3320170e",
   "metadata": {},
   "outputs": [],
   "source": [
    "df = pd.read_csv(\"StudentsDetails.csv\")"
   ]
  },
  {
   "cell_type": "code",
   "execution_count": 4,
   "id": "da9c1bad-757d-4c49-85fa-3a9900570b24",
   "metadata": {},
   "outputs": [
    {
     "name": "stdout",
     "output_type": "stream",
     "text": [
      "  Name              Subject      Marks        \n",
      "0          AnitaSharma  Data Structures     85\n",
      "1          RahulVerma   Digital Circuits    78\n",
      "2          PriyaMenon   Thermodynamics      91\n",
      "3          Suresh Kumar Operating Systems   67\n",
      "4          Nandhini Rao Signals and Systems 88\n"
     ]
    }
   ],
   "source": [
    "print(df.head())"
   ]
  },
  {
   "cell_type": "code",
   "execution_count": 5,
   "id": "d3dcadc6-b8e2-42ea-af97-338e7f440c43",
   "metadata": {},
   "outputs": [
    {
     "name": "stdout",
     "output_type": "stream",
     "text": [
      "<class 'pandas.core.frame.DataFrame'>\n",
      "RangeIndex: 8 entries, 0 to 7\n",
      "Data columns (total 1 columns):\n",
      " #   Column                                        Non-Null Count  Dtype \n",
      "---  ------                                        --------------  ----- \n",
      " 0   Name              Subject      Marks          8 non-null      object\n",
      "dtypes: object(1)\n",
      "memory usage: 196.0+ bytes\n",
      "None\n"
     ]
    }
   ],
   "source": [
    "print(df.info())"
   ]
  },
  {
   "cell_type": "code",
   "execution_count": 28,
   "id": "83a52cde-ee6a-4418-80ca-95d466a43880",
   "metadata": {},
   "outputs": [
    {
     "name": "stdout",
     "output_type": "stream",
     "text": [
      "['Name', 'Subject      Marks']\n",
      "           Name      Subject      Marks\n",
      "0   AnitaSharma  Data Structures     85\n",
      "1    RahulVerma  Digital Circuits    78\n",
      "2    PriyaMenon  Thermodynamics      91\n",
      "3  Suresh Kumar  Operating Systems   67\n",
      "4  Nandhini Rao  Signals and Systems 88\n"
     ]
    }
   ],
   "source": [
    "import pandas as pd\n",
    "\n",
    "# Read file assuming it's aligned by spaces, not commas\n",
    "df = pd.read_fwf(\"StudentsDetails.csv\")\n",
    "\n",
    "# Show column names\n",
    "print(df.columns.tolist())\n",
    "9\n",
    "# Preview first few rows\n",
    "print(df.head())"
   ]
  },
  {
   "cell_type": "code",
   "execution_count": 29,
   "id": "acde6552-be10-460a-ada6-bd5cd56f7525",
   "metadata": {},
   "outputs": [
    {
     "name": "stdout",
     "output_type": "stream",
     "text": [
      "<class 'pandas.core.frame.DataFrame'>\n",
      "RangeIndex: 8 entries, 0 to 7\n",
      "Data columns (total 2 columns):\n",
      " #   Column              Non-Null Count  Dtype \n",
      "---  ------              --------------  ----- \n",
      " 0   Name                8 non-null      object\n",
      " 1   Subject      Marks  8 non-null      object\n",
      "dtypes: object(2)\n",
      "memory usage: 260.0+ bytes\n",
      "None\n"
     ]
    }
   ],
   "source": [
    "print(df.info())"
   ]
  },
  {
   "cell_type": "code",
   "execution_count": 30,
   "id": "336e7e37-b4c3-4b43-b6fc-b3c2e7629ffb",
   "metadata": {},
   "outputs": [
    {
     "name": "stdout",
     "output_type": "stream",
     "text": [
      "               Name      Subject      Marks\n",
      "count             8                       8\n",
      "unique            8                       8\n",
      "top     AnitaSharma  Data Structures     85\n",
      "freq              1                       1\n"
     ]
    }
   ],
   "source": [
    "print(df.describe(include='all'))"
   ]
  },
  {
   "cell_type": "code",
   "execution_count": 31,
   "id": "00772d4a-5a2d-4dc3-bd18-80b65432d7dc",
   "metadata": {},
   "outputs": [
    {
     "name": "stdout",
     "output_type": "stream",
     "text": [
      "Name                  0\n",
      "Subject      Marks    0\n",
      "dtype: int64\n"
     ]
    }
   ],
   "source": [
    "print(df.isnull().sum())"
   ]
  },
  {
   "cell_type": "code",
   "execution_count": 33,
   "id": "93f9f7c2-b364-4c52-acc6-9ea7d63b97e2",
   "metadata": {},
   "outputs": [],
   "source": [
    "df.columns = df.columns.str.strip()"
   ]
  },
  {
   "cell_type": "code",
   "execution_count": 34,
   "id": "36ed7e75-f11a-45b3-88ff-30437ae56d79",
   "metadata": {},
   "outputs": [],
   "source": [
    "df = df.applymap(lambda x: x.strip() if isinstance(x, str) else x)"
   ]
  },
  {
   "cell_type": "code",
   "execution_count": 35,
   "id": "7eb41240-e93a-4d11-9b98-76be6d024a63",
   "metadata": {},
   "outputs": [],
   "source": [
    "df_cleaned = df.dropna()"
   ]
  },
  {
   "cell_type": "code",
   "execution_count": 37,
   "id": "7526d274-3c33-4ed5-9576-d0e6ef0f1d07",
   "metadata": {},
   "outputs": [
    {
     "data": {
      "text/plain": [
       "Index(['Name', 'Subject      Marks'], dtype='object')"
      ]
     },
     "execution_count": 37,
     "metadata": {},
     "output_type": "execute_result"
    }
   ],
   "source": [
    "df.columns"
   ]
  },
  {
   "cell_type": "code",
   "execution_count": null,
   "id": "46d170db-f5bf-4254-81f9-cd1444552893",
   "metadata": {},
   "outputs": [],
   "source": []
  }
 ],
 "metadata": {
  "kernelspec": {
   "display_name": "anaconda-panel-2023.05-py310",
   "language": "python",
   "name": "conda-env-anaconda-panel-2023.05-py310-py"
  },
  "language_info": {
   "codemirror_mode": {
    "name": "ipython",
    "version": 3
   },
   "file_extension": ".py",
   "mimetype": "text/x-python",
   "name": "python",
   "nbconvert_exporter": "python",
   "pygments_lexer": "ipython3",
   "version": "3.11.5"
  }
 },
 "nbformat": 4,
 "nbformat_minor": 5
}
