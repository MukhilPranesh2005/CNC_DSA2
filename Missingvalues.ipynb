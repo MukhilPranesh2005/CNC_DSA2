{
 "cells": [
  {
   "cell_type": "code",
   "execution_count": 21,
   "id": "217a1bf6-340d-4597-b89d-aa25b32c289f",
   "metadata": {},
   "outputs": [],
   "source": [
    "import numpy as np\n",
    "import pandas as pd\n",
    "import matplotlib.pyplot as plt\n",
    "%matplotlib inline"
   ]
  },
  {
   "cell_type": "code",
   "execution_count": 22,
   "id": "23505dcd-1cae-4a24-804b-43d10188a875",
   "metadata": {},
   "outputs": [
    {
     "name": "stdout",
     "output_type": "stream",
     "text": [
      "Initial shape: (6, 3)\n"
     ]
    },
    {
     "data": {
      "text/html": [
       "<div>\n",
       "<style scoped>\n",
       "    .dataframe tbody tr th:only-of-type {\n",
       "        vertical-align: middle;\n",
       "    }\n",
       "\n",
       "    .dataframe tbody tr th {\n",
       "        vertical-align: top;\n",
       "    }\n",
       "\n",
       "    .dataframe thead th {\n",
       "        text-align: right;\n",
       "    }\n",
       "</style>\n",
       "<table border=\"1\" class=\"dataframe\">\n",
       "  <thead>\n",
       "    <tr style=\"text-align: right;\">\n",
       "      <th></th>\n",
       "      <th>Name</th>\n",
       "      <th>Subject</th>\n",
       "      <th>Marks</th>\n",
       "    </tr>\n",
       "  </thead>\n",
       "  <tbody>\n",
       "    <tr>\n",
       "      <th>0</th>\n",
       "      <td>AnitaSharma</td>\n",
       "      <td>Data Structures</td>\n",
       "      <td>85.0</td>\n",
       "    </tr>\n",
       "    <tr>\n",
       "      <th>1</th>\n",
       "      <td>RahulVerma</td>\n",
       "      <td>Digital Circuits</td>\n",
       "      <td>78.0</td>\n",
       "    </tr>\n",
       "    <tr>\n",
       "      <th>2</th>\n",
       "      <td>PriyaMenon</td>\n",
       "      <td>Thermodynamics</td>\n",
       "      <td>91.0</td>\n",
       "    </tr>\n",
       "    <tr>\n",
       "      <th>3</th>\n",
       "      <td>Varun Iyer</td>\n",
       "      <td>Fluid Mechanics</td>\n",
       "      <td>74.0</td>\n",
       "    </tr>\n",
       "    <tr>\n",
       "      <th>4</th>\n",
       "      <td>Divya Nair</td>\n",
       "      <td>Algorithms</td>\n",
       "      <td>95.0</td>\n",
       "    </tr>\n",
       "  </tbody>\n",
       "</table>\n",
       "</div>"
      ],
      "text/plain": [
       "          Name           Subject  Marks\n",
       "0  AnitaSharma   Data Structures   85.0\n",
       "1   RahulVerma  Digital Circuits   78.0\n",
       "2   PriyaMenon    Thermodynamics   91.0\n",
       "3   Varun Iyer   Fluid Mechanics   74.0\n",
       "4   Divya Nair        Algorithms   95.0"
      ]
     },
     "execution_count": 22,
     "metadata": {},
     "output_type": "execute_result"
    }
   ],
   "source": [
    "CSV_PATH = \"StudentDetails_final.csv\"        # 🔄 change to your file\n",
    "df = pd.read_csv(CSV_PATH)\n",
    "\n",
    "print(\"Initial shape:\", df.shape)\n",
    "df.head()"
   ]
  },
  {
   "cell_type": "code",
   "execution_count": 23,
   "id": "078b233a-fa2e-4bd3-aebf-bf1b0c8510af",
   "metadata": {},
   "outputs": [
    {
     "data": {
      "text/plain": [
       "'Missing values per column:\\n'"
      ]
     },
     "metadata": {},
     "output_type": "display_data"
    },
    {
     "data": {
      "text/plain": [
       "Name       0\n",
       "Subject    0\n",
       "Marks      0\n",
       "dtype: int64"
      ]
     },
     "metadata": {},
     "output_type": "display_data"
    }
   ],
   "source": [
    "missing = df.isna().sum()\n",
    "display(\"Missing values per column:\\n\",missing)"
   ]
  },
  {
   "cell_type": "code",
   "execution_count": 24,
   "id": "08c1a85e-41ae-4f17-b936-6005c46af86b",
   "metadata": {},
   "outputs": [],
   "source": [
    "df[\"Marks\"] = df[\"Marks\"].fillna(df[\"Marks\"].median())\n",
    "for col in [\"Name\", \"Subject\"]:\n",
    "    mode_val = df[col].mode(dropna=True)\n",
    "    if not mode_val.empty:\n",
    "        df[col] = df[col].fillna(mode_val.iloc[0])"
   ]
  },
  {
   "cell_type": "code",
   "execution_count": 25,
   "id": "ca1c876d-6c45-497b-965e-641d8a87876f",
   "metadata": {},
   "outputs": [],
   "source": [
    "cols = [\"Name\", \"Subject\", \"Marks\"]\n",
    "i = 0\n",
    "while i < len(cols):\n",
    "    col = cols[i]\n",
    "    if col == \"Marks\":\n",
    "        df[col].fillna(df[col].median(), inplace=True)\n",
    "    else:\n",
    "        mode_val = df[col].mode(dropna=True)\n",
    "        if not mode_val.empty:\n",
    "            df[col].fillna(mode_val.iloc[0], inplace=True)\n",
    "    i += 1"
   ]
  },
  {
   "cell_type": "code",
   "execution_count": 27,
   "id": "f714fc44-773f-4b73-a804-49783294c795",
   "metadata": {},
   "outputs": [
    {
     "name": "stdout",
     "output_type": "stream",
     "text": [
      "Outliers detected: 0 rows\n"
     ]
    }
   ],
   "source": [
    "Q1, Q3 = df[\"Marks\"].quantile([0.25, 0.75])\n",
    "IQR = Q3 - Q1\n",
    "lower, upper = Q1 - 1.5 * IQR, Q3 + 1.5 * IQR\n",
    "\n",
    "outlier_mask = (df[\"Marks\"] < lower) | (df[\"Marks\"] > upper)\n",
    "print(f\"Outliers detected: {outlier_mask.sum()} rows\")"
   ]
  },
  {
   "cell_type": "code",
   "execution_count": 28,
   "id": "1b1bd9f7-1ca7-4eee-8494-dde358ca8366",
   "metadata": {},
   "outputs": [
    {
     "name": "stdout",
     "output_type": "stream",
     "text": [
      "Shape after outlier handling: (6, 3)\n"
     ]
    }
   ],
   "source": [
    "STRATEGY = \"winsorise\"\n",
    "\n",
    "if STRATEGY == \"drop\":\n",
    "    df = df[~outlier_mask].reset_index(drop=True)\n",
    "elif STRATEGY == \"winsorise\":\n",
    "    df.loc[df[\"Marks\"] < lower, \"Marks\"] = lower\n",
    "    df.loc[df[\"Marks\"] > upper, \"Marks\"] = upper\n",
    "else:\n",
    "    raise ValueError(\"STRATEGY must be 'drop' or 'winsorise'\")\n",
    "\n",
    "print(\"Shape after outlier handling:\", df.shape)"
   ]
  },
  {
   "cell_type": "code",
   "execution_count": 29,
   "id": "c1fd6454-1d0b-4f95-8b2a-be0830004838",
   "metadata": {
    "scrolled": true
   },
   "outputs": [
    {
     "data": {
      "image/png": "[encoded data removed]",
      "text/plain": [
       "<Figure size 640x480 with 1 Axes>"
      ]
     },
     "metadata": {},
     "output_type": "display_data"
    }
   ],
   "source": [
    "# ------------------------------------------------------------\n",
    "# Cell 7 ── Quick visual check (optional)\n",
    "# ------------------------------------------------------------\n",
    "plt.boxplot(df[\"Marks\"])\n",
    "plt.title(\"Marks after cleaning\")\n",
    "plt.ylabel(\"Marks\")\n",
    "plt.show()\n"
   ]
  },
  {
   "cell_type": "code",
   "execution_count": 30,
   "id": "cea30e83-29c5-4a29-8d7b-302455d69582",
   "metadata": {},
   "outputs": [
    {
     "name": "stdout",
     "output_type": "stream",
     "text": [
      "✅ Cleaned data saved to StudentMarks_cleaned.csv\n"
     ]
    }
   ],
   "source": [
    "# ------------------------------------------------------------\n",
    "# Cell 8 ── Save the cleaned file\n",
    "# ------------------------------------------------------------\n",
    "OUT_PATH = \"StudentMarks_cleaned.csv\"\n",
    "df.to_csv(OUT_PATH, index=False)\n",
    "print(\"✅ Cleaned data saved to\", OUT_PATH)\n"
   ]
  },
  {
   "cell_type": "code",
   "execution_count": null,
   "id": "6b259ebd-ed75-4372-8945-c6e12bc50a84",
   "metadata": {},
   "outputs": [],
   "source": []
  }
 ],
 "metadata": {
  "kernelspec": {
   "display_name": "anaconda-2024.02-py310",
   "language": "python",
   "name": "conda-env-anaconda-2024.02-py310-py"
  },
  "language_info": {
   "codemirror_mode": {
    "name": "ipython",
    "version": 3
   },
   "file_extension": ".py",
   "mimetype": "text/x-python",
   "name": "python",
   "nbconvert_exporter": "python",
   "pygments_lexer": "ipython3",
   "version": "3.10.14"
  }
 },
 "nbformat": 4,
 "nbformat_minor": 5
}
